{
 "cells": [
  {
   "cell_type": "markdown",
   "id": "22dfbf7f",
   "metadata": {},
   "source": [
    "# Get predictions for new data"
   ]
  },
  {
   "cell_type": "code",
   "execution_count": 1,
   "id": "bc113a0f",
   "metadata": {},
   "outputs": [
    {
     "name": "stdout",
     "output_type": "stream",
     "text": [
      "2.3.10\n"
     ]
    }
   ],
   "source": [
    "import pycaret \n",
    "print(pycaret.__version__)"
   ]
  },
  {
   "cell_type": "code",
   "execution_count": 2,
   "id": "727ddcc9",
   "metadata": {},
   "outputs": [],
   "source": [
    "import os, uuid\n",
    "from azure.storage.blob import BlobServiceClient, BlobClient, ContainerClient\n",
    "from pycaret.regression import *"
   ]
  },
  {
   "cell_type": "code",
   "execution_count": 3,
   "id": "20b03996",
   "metadata": {},
   "outputs": [],
   "source": [
    "def download_blob(container_name, source_blob_name, destination_file_name):\n",
    "  # Download the blob to a local file\n",
    "    print(\"\\nDownloading blob to \\n\\t\" + destination_file_name)\n",
    "\n",
    "  # Create a blob client using the local file name as the name for the blob\n",
    "    blob_client = blob_service_client.get_blob_client(container=container_name, blob=source_blob_name)\n",
    "\n",
    "    if destination_file_name is not None: \n",
    "        with open(destination_file_name, \"wb\") as download_file:\n",
    "            download_file.write(blob_client.download_blob().readall())\n",
    "\n",
    "        print(\n",
    "            \"Blob {} downloaded to {}.\".format(\n",
    "                source_blob_name, destination_file_name\n",
    "            )\n",
    "        )"
   ]
  },
  {
   "cell_type": "markdown",
   "id": "744aec58",
   "metadata": {},
   "source": [
    "#### We establish the connection"
   ]
  },
  {
   "cell_type": "code",
   "execution_count": 4,
   "id": "38978c16",
   "metadata": {},
   "outputs": [
    {
     "name": "stdout",
     "output_type": "stream",
     "text": [
      "DefaultEndpointsProtocol=https;AccountName=machinelearninginsurance;AccountKey=VvrtwyVNMZg7rnks4Bfg34gQDBKgRYrbUWI/QzLt+61x+hfW7Q+GPah8NOa1dhVpA26sIhGlwe/8+AStfRIdGw==;EndpointSuffix=core.windows.net\n"
     ]
    }
   ],
   "source": [
    "## Enter connection string when running in google colab\n",
    "connect_str = 'DefaultEndpointsProtocol=https;AccountName=machinelearninginsurance;AccountKey=VvrtwyVNMZg7rnks4Bfg34gQDBKgRYrbUWI/QzLt+61x+hfW7Q+GPah8NOa1dhVpA26sIhGlwe/8+AStfRIdGw==;EndpointSuffix=core.windows.net' \n",
    "print(connect_str)\n",
    "\n",
    "# Create the BlobServiceClient object which will be used to create a container client\n",
    "blob_service_client = BlobServiceClient.from_connection_string(connect_str)"
   ]
  },
  {
   "cell_type": "code",
   "execution_count": 7,
   "id": "18924503",
   "metadata": {},
   "outputs": [],
   "source": [
    "# Create a unique name for the container\n",
    "container_name = \"machinelearninginsurance\" \n",
    "model_name = 'lightgbm-reg-101'"
   ]
  },
  {
   "cell_type": "markdown",
   "id": "07d88c67",
   "metadata": {},
   "source": [
    "##### Model Download"
   ]
  },
  {
   "cell_type": "code",
   "execution_count": 8,
   "id": "71e7988d",
   "metadata": {},
   "outputs": [
    {
     "name": "stdout",
     "output_type": "stream",
     "text": [
      "\n",
      "Downloading blob to \n",
      "\tlightgbm-reg101-azure-downloaded.pkl\n",
      "Blob lightgbm-reg-101.pkl downloaded to lightgbm-reg101-azure-downloaded.pkl.\n"
     ]
    }
   ],
   "source": [
    "outfile_name = 'lightgbm-reg101-azure-downloaded'\n",
    "model_azure_src = str(model_name)+'.pkl'\n",
    "download_blob(container_name, model_azure_src, outfile_name + '.pkl')"
   ]
  },
  {
   "cell_type": "markdown",
   "id": "99694e4d",
   "metadata": {},
   "source": [
    "### Forecast with new data"
   ]
  },
  {
   "cell_type": "code",
   "execution_count": 9,
   "id": "c5584822",
   "metadata": {},
   "outputs": [
    {
     "name": "stdout",
     "output_type": "stream",
     "text": [
      "Transformation Pipeline and Model Successfully Loaded\n"
     ]
    }
   ],
   "source": [
    "# Loading the model for predictions\n",
    "azure_final_lightgbm = load_model(outfile_name)"
   ]
  },
  {
   "cell_type": "code",
   "execution_count": 10,
   "id": "c8507e26",
   "metadata": {},
   "outputs": [
    {
     "data": {
      "text/html": [
       "<div>\n",
       "<style scoped>\n",
       "    .dataframe tbody tr th:only-of-type {\n",
       "        vertical-align: middle;\n",
       "    }\n",
       "\n",
       "    .dataframe tbody tr th {\n",
       "        vertical-align: top;\n",
       "    }\n",
       "\n",
       "    .dataframe thead th {\n",
       "        text-align: right;\n",
       "    }\n",
       "</style>\n",
       "<table border=\"1\" class=\"dataframe\">\n",
       "  <thead>\n",
       "    <tr style=\"text-align: right;\">\n",
       "      <th></th>\n",
       "      <th>Carat Weight</th>\n",
       "      <th>Cut</th>\n",
       "      <th>Color</th>\n",
       "      <th>Clarity</th>\n",
       "      <th>Polish</th>\n",
       "      <th>Symmetry</th>\n",
       "      <th>Report</th>\n",
       "      <th>Price</th>\n",
       "    </tr>\n",
       "  </thead>\n",
       "  <tbody>\n",
       "    <tr>\n",
       "      <th>0</th>\n",
       "      <td>1.10</td>\n",
       "      <td>Ideal</td>\n",
       "      <td>H</td>\n",
       "      <td>SI1</td>\n",
       "      <td>VG</td>\n",
       "      <td>EX</td>\n",
       "      <td>GIA</td>\n",
       "      <td>5169</td>\n",
       "    </tr>\n",
       "    <tr>\n",
       "      <th>1</th>\n",
       "      <td>0.83</td>\n",
       "      <td>Ideal</td>\n",
       "      <td>H</td>\n",
       "      <td>VS1</td>\n",
       "      <td>ID</td>\n",
       "      <td>ID</td>\n",
       "      <td>AGSL</td>\n",
       "      <td>3470</td>\n",
       "    </tr>\n",
       "    <tr>\n",
       "      <th>2</th>\n",
       "      <td>0.85</td>\n",
       "      <td>Ideal</td>\n",
       "      <td>H</td>\n",
       "      <td>SI1</td>\n",
       "      <td>EX</td>\n",
       "      <td>EX</td>\n",
       "      <td>GIA</td>\n",
       "      <td>3183</td>\n",
       "    </tr>\n",
       "    <tr>\n",
       "      <th>3</th>\n",
       "      <td>0.91</td>\n",
       "      <td>Ideal</td>\n",
       "      <td>E</td>\n",
       "      <td>SI1</td>\n",
       "      <td>VG</td>\n",
       "      <td>VG</td>\n",
       "      <td>GIA</td>\n",
       "      <td>4370</td>\n",
       "    </tr>\n",
       "    <tr>\n",
       "      <th>4</th>\n",
       "      <td>0.83</td>\n",
       "      <td>Ideal</td>\n",
       "      <td>G</td>\n",
       "      <td>SI1</td>\n",
       "      <td>EX</td>\n",
       "      <td>EX</td>\n",
       "      <td>GIA</td>\n",
       "      <td>3171</td>\n",
       "    </tr>\n",
       "  </tbody>\n",
       "</table>\n",
       "</div>"
      ],
      "text/plain": [
       "   Carat Weight    Cut Color Clarity Polish Symmetry Report  Price\n",
       "0          1.10  Ideal     H     SI1     VG       EX    GIA   5169\n",
       "1          0.83  Ideal     H     VS1     ID       ID   AGSL   3470\n",
       "2          0.85  Ideal     H     SI1     EX       EX    GIA   3183\n",
       "3          0.91  Ideal     E     SI1     VG       VG    GIA   4370\n",
       "4          0.83  Ideal     G     SI1     EX       EX    GIA   3171"
      ]
     },
     "metadata": {},
     "output_type": "display_data"
    }
   ],
   "source": [
    "from pycaret.datasets import get_data\n",
    "dataset = get_data('diamond')"
   ]
  },
  {
   "cell_type": "code",
   "execution_count": 11,
   "id": "0359bb66",
   "metadata": {},
   "outputs": [],
   "source": [
    "data = dataset.sample(frac=0.95, random_state=786).reset_index(drop=True)\n",
    "data_unseen = dataset.drop(data.index).reset_index(drop=True)"
   ]
  },
  {
   "cell_type": "code",
   "execution_count": 12,
   "id": "ca5df918",
   "metadata": {},
   "outputs": [
    {
     "data": {
      "text/html": [
       "<div>\n",
       "<style scoped>\n",
       "    .dataframe tbody tr th:only-of-type {\n",
       "        vertical-align: middle;\n",
       "    }\n",
       "\n",
       "    .dataframe tbody tr th {\n",
       "        vertical-align: top;\n",
       "    }\n",
       "\n",
       "    .dataframe thead th {\n",
       "        text-align: right;\n",
       "    }\n",
       "</style>\n",
       "<table border=\"1\" class=\"dataframe\">\n",
       "  <thead>\n",
       "    <tr style=\"text-align: right;\">\n",
       "      <th></th>\n",
       "      <th>Carat Weight</th>\n",
       "      <th>Cut</th>\n",
       "      <th>Color</th>\n",
       "      <th>Clarity</th>\n",
       "      <th>Polish</th>\n",
       "      <th>Symmetry</th>\n",
       "      <th>Report</th>\n",
       "      <th>Price</th>\n",
       "      <th>Label</th>\n",
       "    </tr>\n",
       "  </thead>\n",
       "  <tbody>\n",
       "    <tr>\n",
       "      <th>0</th>\n",
       "      <td>1.23</td>\n",
       "      <td>Very Good</td>\n",
       "      <td>G</td>\n",
       "      <td>VS1</td>\n",
       "      <td>EX</td>\n",
       "      <td>EX</td>\n",
       "      <td>GIA</td>\n",
       "      <td>8445</td>\n",
       "      <td>9119.291988</td>\n",
       "    </tr>\n",
       "    <tr>\n",
       "      <th>1</th>\n",
       "      <td>0.90</td>\n",
       "      <td>Fair</td>\n",
       "      <td>I</td>\n",
       "      <td>VS1</td>\n",
       "      <td>VG</td>\n",
       "      <td>EX</td>\n",
       "      <td>GIA</td>\n",
       "      <td>3526</td>\n",
       "      <td>3584.631372</td>\n",
       "    </tr>\n",
       "    <tr>\n",
       "      <th>2</th>\n",
       "      <td>0.77</td>\n",
       "      <td>Very Good</td>\n",
       "      <td>G</td>\n",
       "      <td>VVS1</td>\n",
       "      <td>EX</td>\n",
       "      <td>ID</td>\n",
       "      <td>AGSL</td>\n",
       "      <td>3966</td>\n",
       "      <td>3343.725163</td>\n",
       "    </tr>\n",
       "    <tr>\n",
       "      <th>3</th>\n",
       "      <td>1.51</td>\n",
       "      <td>Very Good</td>\n",
       "      <td>D</td>\n",
       "      <td>VS2</td>\n",
       "      <td>EX</td>\n",
       "      <td>EX</td>\n",
       "      <td>GIA</td>\n",
       "      <td>14416</td>\n",
       "      <td>14922.230858</td>\n",
       "    </tr>\n",
       "    <tr>\n",
       "      <th>4</th>\n",
       "      <td>2.33</td>\n",
       "      <td>Ideal</td>\n",
       "      <td>H</td>\n",
       "      <td>SI1</td>\n",
       "      <td>ID</td>\n",
       "      <td>ID</td>\n",
       "      <td>AGSL</td>\n",
       "      <td>21618</td>\n",
       "      <td>20527.248387</td>\n",
       "    </tr>\n",
       "  </tbody>\n",
       "</table>\n",
       "</div>"
      ],
      "text/plain": [
       "   Carat Weight        Cut Color Clarity Polish Symmetry Report  Price  \\\n",
       "0          1.23  Very Good     G     VS1     EX       EX    GIA   8445   \n",
       "1          0.90       Fair     I     VS1     VG       EX    GIA   3526   \n",
       "2          0.77  Very Good     G    VVS1     EX       ID   AGSL   3966   \n",
       "3          1.51  Very Good     D     VS2     EX       EX    GIA  14416   \n",
       "4          2.33      Ideal     H     SI1     ID       ID   AGSL  21618   \n",
       "\n",
       "          Label  \n",
       "0   9119.291988  \n",
       "1   3584.631372  \n",
       "2   3343.725163  \n",
       "3  14922.230858  \n",
       "4  20527.248387  "
      ]
     },
     "execution_count": 12,
     "metadata": {},
     "output_type": "execute_result"
    }
   ],
   "source": [
    "# Predictions from deployed model\n",
    "new_prediction_azure = predict_model(azure_final_lightgbm, data=data_unseen)\n",
    "new_prediction_azure.head()"
   ]
  },
  {
   "cell_type": "code",
   "execution_count": null,
   "id": "3ad6f0a3",
   "metadata": {},
   "outputs": [],
   "source": []
  },
  {
   "cell_type": "code",
   "execution_count": null,
   "id": "13251fe2",
   "metadata": {},
   "outputs": [],
   "source": []
  }
 ],
 "metadata": {
  "kernelspec": {
   "display_name": "Python (ml_pycaret)",
   "language": "python",
   "name": "ml_pycaret"
  },
  "language_info": {
   "codemirror_mode": {
    "name": "ipython",
    "version": 3
   },
   "file_extension": ".py",
   "mimetype": "text/x-python",
   "name": "python",
   "nbconvert_exporter": "python",
   "pygments_lexer": "ipython3",
   "version": "3.8.13"
  }
 },
 "nbformat": 4,
 "nbformat_minor": 5
}
