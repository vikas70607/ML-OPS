{
 "cells": [
  {
   "cell_type": "code",
   "execution_count": 34,
   "metadata": {},
   "outputs": [],
   "source": [
    "#!pip install pycaret==3.0\n",
    "#!pip install requests"
   ]
  },
  {
   "cell_type": "code",
   "execution_count": 22,
   "metadata": {},
   "outputs": [
    {
     "data": {
      "text/plain": [
       "'3.0.0'"
      ]
     },
     "execution_count": 22,
     "metadata": {},
     "output_type": "execute_result"
    }
   ],
   "source": [
    "import pycaret\n",
    "pycaret.__version__"
   ]
  },
  {
   "cell_type": "code",
   "execution_count": 23,
   "metadata": {},
   "outputs": [
    {
     "data": {
      "text/html": [
       "<div>\n",
       "<style scoped>\n",
       "    .dataframe tbody tr th:only-of-type {\n",
       "        vertical-align: middle;\n",
       "    }\n",
       "\n",
       "    .dataframe tbody tr th {\n",
       "        vertical-align: top;\n",
       "    }\n",
       "\n",
       "    .dataframe thead th {\n",
       "        text-align: right;\n",
       "    }\n",
       "</style>\n",
       "<table border=\"1\" class=\"dataframe\">\n",
       "  <thead>\n",
       "    <tr style=\"text-align: right;\">\n",
       "      <th></th>\n",
       "      <th>age</th>\n",
       "      <th>sex</th>\n",
       "      <th>bmi</th>\n",
       "      <th>children</th>\n",
       "      <th>smoker</th>\n",
       "      <th>region</th>\n",
       "      <th>charges</th>\n",
       "    </tr>\n",
       "  </thead>\n",
       "  <tbody>\n",
       "    <tr>\n",
       "      <th>0</th>\n",
       "      <td>19</td>\n",
       "      <td>female</td>\n",
       "      <td>27.900</td>\n",
       "      <td>0</td>\n",
       "      <td>yes</td>\n",
       "      <td>southwest</td>\n",
       "      <td>16884.92400</td>\n",
       "    </tr>\n",
       "    <tr>\n",
       "      <th>1</th>\n",
       "      <td>18</td>\n",
       "      <td>male</td>\n",
       "      <td>33.770</td>\n",
       "      <td>1</td>\n",
       "      <td>no</td>\n",
       "      <td>southeast</td>\n",
       "      <td>1725.55230</td>\n",
       "    </tr>\n",
       "    <tr>\n",
       "      <th>2</th>\n",
       "      <td>28</td>\n",
       "      <td>male</td>\n",
       "      <td>33.000</td>\n",
       "      <td>3</td>\n",
       "      <td>no</td>\n",
       "      <td>southeast</td>\n",
       "      <td>4449.46200</td>\n",
       "    </tr>\n",
       "    <tr>\n",
       "      <th>3</th>\n",
       "      <td>33</td>\n",
       "      <td>male</td>\n",
       "      <td>22.705</td>\n",
       "      <td>0</td>\n",
       "      <td>no</td>\n",
       "      <td>northwest</td>\n",
       "      <td>21984.47061</td>\n",
       "    </tr>\n",
       "    <tr>\n",
       "      <th>4</th>\n",
       "      <td>32</td>\n",
       "      <td>male</td>\n",
       "      <td>28.880</td>\n",
       "      <td>0</td>\n",
       "      <td>no</td>\n",
       "      <td>northwest</td>\n",
       "      <td>3866.85520</td>\n",
       "    </tr>\n",
       "  </tbody>\n",
       "</table>\n",
       "</div>"
      ],
      "text/plain": [
       "   age     sex     bmi  children smoker     region      charges\n",
       "0   19  female  27.900         0    yes  southwest  16884.92400\n",
       "1   18    male  33.770         1     no  southeast   1725.55230\n",
       "2   28    male  33.000         3     no  southeast   4449.46200\n",
       "3   33    male  22.705         0     no  northwest  21984.47061\n",
       "4   32    male  28.880         0     no  northwest   3866.85520"
      ]
     },
     "metadata": {},
     "output_type": "display_data"
    }
   ],
   "source": [
    "from pycaret.datasets import get_data\n",
    "data = get_data('insurance')"
   ]
  },
  {
   "cell_type": "markdown",
   "metadata": {},
   "source": [
    "# Experiment 2"
   ]
  },
  {
   "cell_type": "code",
   "execution_count": 24,
   "metadata": {},
   "outputs": [
    {
     "data": {
      "text/html": [
       "<style type=\"text/css\">\n",
       "#T_e83e3_row10_col1, #T_e83e3_row16_col1, #T_e83e3_row18_col1 {\n",
       "  background-color: lightgreen;\n",
       "}\n",
       "</style>\n",
       "<table id=\"T_e83e3\">\n",
       "  <thead>\n",
       "    <tr>\n",
       "      <th class=\"blank level0\" >&nbsp;</th>\n",
       "      <th id=\"T_e83e3_level0_col0\" class=\"col_heading level0 col0\" >Description</th>\n",
       "      <th id=\"T_e83e3_level0_col1\" class=\"col_heading level0 col1\" >Value</th>\n",
       "    </tr>\n",
       "  </thead>\n",
       "  <tbody>\n",
       "    <tr>\n",
       "      <th id=\"T_e83e3_level0_row0\" class=\"row_heading level0 row0\" >0</th>\n",
       "      <td id=\"T_e83e3_row0_col0\" class=\"data row0 col0\" >Session id</td>\n",
       "      <td id=\"T_e83e3_row0_col1\" class=\"data row0 col1\" >5831</td>\n",
       "    </tr>\n",
       "    <tr>\n",
       "      <th id=\"T_e83e3_level0_row1\" class=\"row_heading level0 row1\" >1</th>\n",
       "      <td id=\"T_e83e3_row1_col0\" class=\"data row1 col0\" >Target</td>\n",
       "      <td id=\"T_e83e3_row1_col1\" class=\"data row1 col1\" >charges</td>\n",
       "    </tr>\n",
       "    <tr>\n",
       "      <th id=\"T_e83e3_level0_row2\" class=\"row_heading level0 row2\" >2</th>\n",
       "      <td id=\"T_e83e3_row2_col0\" class=\"data row2 col0\" >Target type</td>\n",
       "      <td id=\"T_e83e3_row2_col1\" class=\"data row2 col1\" >Regression</td>\n",
       "    </tr>\n",
       "    <tr>\n",
       "      <th id=\"T_e83e3_level0_row3\" class=\"row_heading level0 row3\" >3</th>\n",
       "      <td id=\"T_e83e3_row3_col0\" class=\"data row3 col0\" >Original data shape</td>\n",
       "      <td id=\"T_e83e3_row3_col1\" class=\"data row3 col1\" >(1338, 7)</td>\n",
       "    </tr>\n",
       "    <tr>\n",
       "      <th id=\"T_e83e3_level0_row4\" class=\"row_heading level0 row4\" >4</th>\n",
       "      <td id=\"T_e83e3_row4_col0\" class=\"data row4 col0\" >Transformed data shape</td>\n",
       "      <td id=\"T_e83e3_row4_col1\" class=\"data row4 col1\" >(1338, 55)</td>\n",
       "    </tr>\n",
       "    <tr>\n",
       "      <th id=\"T_e83e3_level0_row5\" class=\"row_heading level0 row5\" >5</th>\n",
       "      <td id=\"T_e83e3_row5_col0\" class=\"data row5 col0\" >Transformed train set shape</td>\n",
       "      <td id=\"T_e83e3_row5_col1\" class=\"data row5 col1\" >(936, 55)</td>\n",
       "    </tr>\n",
       "    <tr>\n",
       "      <th id=\"T_e83e3_level0_row6\" class=\"row_heading level0 row6\" >6</th>\n",
       "      <td id=\"T_e83e3_row6_col0\" class=\"data row6 col0\" >Transformed test set shape</td>\n",
       "      <td id=\"T_e83e3_row6_col1\" class=\"data row6 col1\" >(402, 55)</td>\n",
       "    </tr>\n",
       "    <tr>\n",
       "      <th id=\"T_e83e3_level0_row7\" class=\"row_heading level0 row7\" >7</th>\n",
       "      <td id=\"T_e83e3_row7_col0\" class=\"data row7 col0\" >Ordinal features</td>\n",
       "      <td id=\"T_e83e3_row7_col1\" class=\"data row7 col1\" >2</td>\n",
       "    </tr>\n",
       "    <tr>\n",
       "      <th id=\"T_e83e3_level0_row8\" class=\"row_heading level0 row8\" >8</th>\n",
       "      <td id=\"T_e83e3_row8_col0\" class=\"data row8 col0\" >Numeric features</td>\n",
       "      <td id=\"T_e83e3_row8_col1\" class=\"data row8 col1\" >3</td>\n",
       "    </tr>\n",
       "    <tr>\n",
       "      <th id=\"T_e83e3_level0_row9\" class=\"row_heading level0 row9\" >9</th>\n",
       "      <td id=\"T_e83e3_row9_col0\" class=\"data row9 col0\" >Categorical features</td>\n",
       "      <td id=\"T_e83e3_row9_col1\" class=\"data row9 col1\" >3</td>\n",
       "    </tr>\n",
       "    <tr>\n",
       "      <th id=\"T_e83e3_level0_row10\" class=\"row_heading level0 row10\" >10</th>\n",
       "      <td id=\"T_e83e3_row10_col0\" class=\"data row10 col0\" >Preprocess</td>\n",
       "      <td id=\"T_e83e3_row10_col1\" class=\"data row10 col1\" >True</td>\n",
       "    </tr>\n",
       "    <tr>\n",
       "      <th id=\"T_e83e3_level0_row11\" class=\"row_heading level0 row11\" >11</th>\n",
       "      <td id=\"T_e83e3_row11_col0\" class=\"data row11 col0\" >Imputation type</td>\n",
       "      <td id=\"T_e83e3_row11_col1\" class=\"data row11 col1\" >simple</td>\n",
       "    </tr>\n",
       "    <tr>\n",
       "      <th id=\"T_e83e3_level0_row12\" class=\"row_heading level0 row12\" >12</th>\n",
       "      <td id=\"T_e83e3_row12_col0\" class=\"data row12 col0\" >Numeric imputation</td>\n",
       "      <td id=\"T_e83e3_row12_col1\" class=\"data row12 col1\" >mean</td>\n",
       "    </tr>\n",
       "    <tr>\n",
       "      <th id=\"T_e83e3_level0_row13\" class=\"row_heading level0 row13\" >13</th>\n",
       "      <td id=\"T_e83e3_row13_col0\" class=\"data row13 col0\" >Categorical imputation</td>\n",
       "      <td id=\"T_e83e3_row13_col1\" class=\"data row13 col1\" >mode</td>\n",
       "    </tr>\n",
       "    <tr>\n",
       "      <th id=\"T_e83e3_level0_row14\" class=\"row_heading level0 row14\" >14</th>\n",
       "      <td id=\"T_e83e3_row14_col0\" class=\"data row14 col0\" >Maximum one-hot encoding</td>\n",
       "      <td id=\"T_e83e3_row14_col1\" class=\"data row14 col1\" >25</td>\n",
       "    </tr>\n",
       "    <tr>\n",
       "      <th id=\"T_e83e3_level0_row15\" class=\"row_heading level0 row15\" >15</th>\n",
       "      <td id=\"T_e83e3_row15_col0\" class=\"data row15 col0\" >Encoding method</td>\n",
       "      <td id=\"T_e83e3_row15_col1\" class=\"data row15 col1\" >None</td>\n",
       "    </tr>\n",
       "    <tr>\n",
       "      <th id=\"T_e83e3_level0_row16\" class=\"row_heading level0 row16\" >16</th>\n",
       "      <td id=\"T_e83e3_row16_col0\" class=\"data row16 col0\" >Polynomial features</td>\n",
       "      <td id=\"T_e83e3_row16_col1\" class=\"data row16 col1\" >True</td>\n",
       "    </tr>\n",
       "    <tr>\n",
       "      <th id=\"T_e83e3_level0_row17\" class=\"row_heading level0 row17\" >17</th>\n",
       "      <td id=\"T_e83e3_row17_col0\" class=\"data row17 col0\" >Polynomial degree</td>\n",
       "      <td id=\"T_e83e3_row17_col1\" class=\"data row17 col1\" >2</td>\n",
       "    </tr>\n",
       "    <tr>\n",
       "      <th id=\"T_e83e3_level0_row18\" class=\"row_heading level0 row18\" >18</th>\n",
       "      <td id=\"T_e83e3_row18_col0\" class=\"data row18 col0\" >Normalize</td>\n",
       "      <td id=\"T_e83e3_row18_col1\" class=\"data row18 col1\" >True</td>\n",
       "    </tr>\n",
       "    <tr>\n",
       "      <th id=\"T_e83e3_level0_row19\" class=\"row_heading level0 row19\" >19</th>\n",
       "      <td id=\"T_e83e3_row19_col0\" class=\"data row19 col0\" >Normalize method</td>\n",
       "      <td id=\"T_e83e3_row19_col1\" class=\"data row19 col1\" >zscore</td>\n",
       "    </tr>\n",
       "    <tr>\n",
       "      <th id=\"T_e83e3_level0_row20\" class=\"row_heading level0 row20\" >20</th>\n",
       "      <td id=\"T_e83e3_row20_col0\" class=\"data row20 col0\" >Fold Generator</td>\n",
       "      <td id=\"T_e83e3_row20_col1\" class=\"data row20 col1\" >KFold</td>\n",
       "    </tr>\n",
       "    <tr>\n",
       "      <th id=\"T_e83e3_level0_row21\" class=\"row_heading level0 row21\" >21</th>\n",
       "      <td id=\"T_e83e3_row21_col0\" class=\"data row21 col0\" >Fold Number</td>\n",
       "      <td id=\"T_e83e3_row21_col1\" class=\"data row21 col1\" >10</td>\n",
       "    </tr>\n",
       "    <tr>\n",
       "      <th id=\"T_e83e3_level0_row22\" class=\"row_heading level0 row22\" >22</th>\n",
       "      <td id=\"T_e83e3_row22_col0\" class=\"data row22 col0\" >CPU Jobs</td>\n",
       "      <td id=\"T_e83e3_row22_col1\" class=\"data row22 col1\" >-1</td>\n",
       "    </tr>\n",
       "    <tr>\n",
       "      <th id=\"T_e83e3_level0_row23\" class=\"row_heading level0 row23\" >23</th>\n",
       "      <td id=\"T_e83e3_row23_col0\" class=\"data row23 col0\" >Use GPU</td>\n",
       "      <td id=\"T_e83e3_row23_col1\" class=\"data row23 col1\" >False</td>\n",
       "    </tr>\n",
       "    <tr>\n",
       "      <th id=\"T_e83e3_level0_row24\" class=\"row_heading level0 row24\" >24</th>\n",
       "      <td id=\"T_e83e3_row24_col0\" class=\"data row24 col0\" >Log Experiment</td>\n",
       "      <td id=\"T_e83e3_row24_col1\" class=\"data row24 col1\" >False</td>\n",
       "    </tr>\n",
       "    <tr>\n",
       "      <th id=\"T_e83e3_level0_row25\" class=\"row_heading level0 row25\" >25</th>\n",
       "      <td id=\"T_e83e3_row25_col0\" class=\"data row25 col0\" >Experiment Name</td>\n",
       "      <td id=\"T_e83e3_row25_col1\" class=\"data row25 col1\" >reg-default-name</td>\n",
       "    </tr>\n",
       "    <tr>\n",
       "      <th id=\"T_e83e3_level0_row26\" class=\"row_heading level0 row26\" >26</th>\n",
       "      <td id=\"T_e83e3_row26_col0\" class=\"data row26 col0\" >USI</td>\n",
       "      <td id=\"T_e83e3_row26_col1\" class=\"data row26 col1\" >08ba</td>\n",
       "    </tr>\n",
       "  </tbody>\n",
       "</table>\n"
      ],
      "text/plain": [
       "<pandas.io.formats.style.Styler at 0x25567fad820>"
      ]
     },
     "metadata": {},
     "output_type": "display_data"
    }
   ],
   "source": [
    "s2 = setup(data, target = 'charges',\n",
    "           normalize = True,\n",
    "           polynomial_features = True,\n",
    "           #silent=True,\n",
    "           bin_numeric_features= ['age', 'bmi'])"
   ]
  },
  {
   "cell_type": "code",
   "execution_count": 25,
   "metadata": {},
   "outputs": [
    {
     "data": {
      "text/html": [],
      "text/plain": [
       "<IPython.core.display.HTML object>"
      ]
     },
     "metadata": {},
     "output_type": "display_data"
    },
    {
     "data": {
      "text/html": [
       "<style type=\"text/css\">\n",
       "#T_c627b_row10_col0, #T_c627b_row10_col1, #T_c627b_row10_col2, #T_c627b_row10_col3, #T_c627b_row10_col4, #T_c627b_row10_col5 {\n",
       "  background: yellow;\n",
       "}\n",
       "</style>\n",
       "<table id=\"T_c627b\">\n",
       "  <thead>\n",
       "    <tr>\n",
       "      <th class=\"blank level0\" >&nbsp;</th>\n",
       "      <th id=\"T_c627b_level0_col0\" class=\"col_heading level0 col0\" >MAE</th>\n",
       "      <th id=\"T_c627b_level0_col1\" class=\"col_heading level0 col1\" >MSE</th>\n",
       "      <th id=\"T_c627b_level0_col2\" class=\"col_heading level0 col2\" >RMSE</th>\n",
       "      <th id=\"T_c627b_level0_col3\" class=\"col_heading level0 col3\" >R2</th>\n",
       "      <th id=\"T_c627b_level0_col4\" class=\"col_heading level0 col4\" >RMSLE</th>\n",
       "      <th id=\"T_c627b_level0_col5\" class=\"col_heading level0 col5\" >MAPE</th>\n",
       "    </tr>\n",
       "    <tr>\n",
       "      <th class=\"index_name level0\" >Fold</th>\n",
       "      <th class=\"blank col0\" >&nbsp;</th>\n",
       "      <th class=\"blank col1\" >&nbsp;</th>\n",
       "      <th class=\"blank col2\" >&nbsp;</th>\n",
       "      <th class=\"blank col3\" >&nbsp;</th>\n",
       "      <th class=\"blank col4\" >&nbsp;</th>\n",
       "      <th class=\"blank col5\" >&nbsp;</th>\n",
       "    </tr>\n",
       "  </thead>\n",
       "  <tbody>\n",
       "    <tr>\n",
       "      <th id=\"T_c627b_level0_row0\" class=\"row_heading level0 row0\" >0</th>\n",
       "      <td id=\"T_c627b_row0_col0\" class=\"data row0 col0\" >2738.4031</td>\n",
       "      <td id=\"T_c627b_row0_col1\" class=\"data row0 col1\" >20390468.3127</td>\n",
       "      <td id=\"T_c627b_row0_col2\" class=\"data row0 col2\" >4515.5806</td>\n",
       "      <td id=\"T_c627b_row0_col3\" class=\"data row0 col3\" >0.8671</td>\n",
       "      <td id=\"T_c627b_row0_col4\" class=\"data row0 col4\" >0.3715</td>\n",
       "      <td id=\"T_c627b_row0_col5\" class=\"data row0 col5\" >0.3050</td>\n",
       "    </tr>\n",
       "    <tr>\n",
       "      <th id=\"T_c627b_level0_row1\" class=\"row_heading level0 row1\" >1</th>\n",
       "      <td id=\"T_c627b_row1_col0\" class=\"data row1 col0\" >2561.8404</td>\n",
       "      <td id=\"T_c627b_row1_col1\" class=\"data row1 col1\" >17064169.2663</td>\n",
       "      <td id=\"T_c627b_row1_col2\" class=\"data row1 col2\" >4130.8800</td>\n",
       "      <td id=\"T_c627b_row1_col3\" class=\"data row1 col3\" >0.8655</td>\n",
       "      <td id=\"T_c627b_row1_col4\" class=\"data row1 col4\" >0.4338</td>\n",
       "      <td id=\"T_c627b_row1_col5\" class=\"data row1 col5\" >0.3542</td>\n",
       "    </tr>\n",
       "    <tr>\n",
       "      <th id=\"T_c627b_level0_row2\" class=\"row_heading level0 row2\" >2</th>\n",
       "      <td id=\"T_c627b_row2_col0\" class=\"data row2 col0\" >2717.8612</td>\n",
       "      <td id=\"T_c627b_row2_col1\" class=\"data row2 col1\" >18387149.0990</td>\n",
       "      <td id=\"T_c627b_row2_col2\" class=\"data row2 col2\" >4288.0239</td>\n",
       "      <td id=\"T_c627b_row2_col3\" class=\"data row2 col3\" >0.8986</td>\n",
       "      <td id=\"T_c627b_row2_col4\" class=\"data row2 col4\" >0.4808</td>\n",
       "      <td id=\"T_c627b_row2_col5\" class=\"data row2 col5\" >0.3804</td>\n",
       "    </tr>\n",
       "    <tr>\n",
       "      <th id=\"T_c627b_level0_row3\" class=\"row_heading level0 row3\" >3</th>\n",
       "      <td id=\"T_c627b_row3_col0\" class=\"data row3 col0\" >3511.4014</td>\n",
       "      <td id=\"T_c627b_row3_col1\" class=\"data row3 col1\" >32155576.9726</td>\n",
       "      <td id=\"T_c627b_row3_col2\" class=\"data row3 col2\" >5670.5888</td>\n",
       "      <td id=\"T_c627b_row3_col3\" class=\"data row3 col3\" >0.7890</td>\n",
       "      <td id=\"T_c627b_row3_col4\" class=\"data row3 col4\" >0.4149</td>\n",
       "      <td id=\"T_c627b_row3_col5\" class=\"data row3 col5\" >0.3270</td>\n",
       "    </tr>\n",
       "    <tr>\n",
       "      <th id=\"T_c627b_level0_row4\" class=\"row_heading level0 row4\" >4</th>\n",
       "      <td id=\"T_c627b_row4_col0\" class=\"data row4 col0\" >2953.1521</td>\n",
       "      <td id=\"T_c627b_row4_col1\" class=\"data row4 col1\" >24053533.9348</td>\n",
       "      <td id=\"T_c627b_row4_col2\" class=\"data row4 col2\" >4904.4402</td>\n",
       "      <td id=\"T_c627b_row4_col3\" class=\"data row4 col3\" >0.8420</td>\n",
       "      <td id=\"T_c627b_row4_col4\" class=\"data row4 col4\" >0.4424</td>\n",
       "      <td id=\"T_c627b_row4_col5\" class=\"data row4 col5\" >0.3163</td>\n",
       "    </tr>\n",
       "    <tr>\n",
       "      <th id=\"T_c627b_level0_row5\" class=\"row_heading level0 row5\" >5</th>\n",
       "      <td id=\"T_c627b_row5_col0\" class=\"data row5 col0\" >2267.3276</td>\n",
       "      <td id=\"T_c627b_row5_col1\" class=\"data row5 col1\" >10162054.8125</td>\n",
       "      <td id=\"T_c627b_row5_col2\" class=\"data row5 col2\" >3187.7978</td>\n",
       "      <td id=\"T_c627b_row5_col3\" class=\"data row5 col3\" >0.8986</td>\n",
       "      <td id=\"T_c627b_row5_col4\" class=\"data row5 col4\" >0.3715</td>\n",
       "      <td id=\"T_c627b_row5_col5\" class=\"data row5 col5\" >0.2875</td>\n",
       "    </tr>\n",
       "    <tr>\n",
       "      <th id=\"T_c627b_level0_row6\" class=\"row_heading level0 row6\" >6</th>\n",
       "      <td id=\"T_c627b_row6_col0\" class=\"data row6 col0\" >2400.0674</td>\n",
       "      <td id=\"T_c627b_row6_col1\" class=\"data row6 col1\" >20411522.2785</td>\n",
       "      <td id=\"T_c627b_row6_col2\" class=\"data row6 col2\" >4517.9113</td>\n",
       "      <td id=\"T_c627b_row6_col3\" class=\"data row6 col3\" >0.8751</td>\n",
       "      <td id=\"T_c627b_row6_col4\" class=\"data row6 col4\" >0.3832</td>\n",
       "      <td id=\"T_c627b_row6_col5\" class=\"data row6 col5\" >0.1998</td>\n",
       "    </tr>\n",
       "    <tr>\n",
       "      <th id=\"T_c627b_level0_row7\" class=\"row_heading level0 row7\" >7</th>\n",
       "      <td id=\"T_c627b_row7_col0\" class=\"data row7 col0\" >3348.3525</td>\n",
       "      <td id=\"T_c627b_row7_col1\" class=\"data row7 col1\" >31600094.9586</td>\n",
       "      <td id=\"T_c627b_row7_col2\" class=\"data row7 col2\" >5621.3962</td>\n",
       "      <td id=\"T_c627b_row7_col3\" class=\"data row7 col3\" >0.7735</td>\n",
       "      <td id=\"T_c627b_row7_col4\" class=\"data row7 col4\" >0.5448</td>\n",
       "      <td id=\"T_c627b_row7_col5\" class=\"data row7 col5\" >0.3141</td>\n",
       "    </tr>\n",
       "    <tr>\n",
       "      <th id=\"T_c627b_level0_row8\" class=\"row_heading level0 row8\" >8</th>\n",
       "      <td id=\"T_c627b_row8_col0\" class=\"data row8 col0\" >3154.7731</td>\n",
       "      <td id=\"T_c627b_row8_col1\" class=\"data row8 col1\" >28458740.5477</td>\n",
       "      <td id=\"T_c627b_row8_col2\" class=\"data row8 col2\" >5334.6734</td>\n",
       "      <td id=\"T_c627b_row8_col3\" class=\"data row8 col3\" >0.8462</td>\n",
       "      <td id=\"T_c627b_row8_col4\" class=\"data row8 col4\" >0.3931</td>\n",
       "      <td id=\"T_c627b_row8_col5\" class=\"data row8 col5\" >0.2414</td>\n",
       "    </tr>\n",
       "    <tr>\n",
       "      <th id=\"T_c627b_level0_row9\" class=\"row_heading level0 row9\" >9</th>\n",
       "      <td id=\"T_c627b_row9_col0\" class=\"data row9 col0\" >3134.3291</td>\n",
       "      <td id=\"T_c627b_row9_col1\" class=\"data row9 col1\" >23162119.7664</td>\n",
       "      <td id=\"T_c627b_row9_col2\" class=\"data row9 col2\" >4812.7040</td>\n",
       "      <td id=\"T_c627b_row9_col3\" class=\"data row9 col3\" >0.8510</td>\n",
       "      <td id=\"T_c627b_row9_col4\" class=\"data row9 col4\" >0.4765</td>\n",
       "      <td id=\"T_c627b_row9_col5\" class=\"data row9 col5\" >0.3392</td>\n",
       "    </tr>\n",
       "    <tr>\n",
       "      <th id=\"T_c627b_level0_row10\" class=\"row_heading level0 row10\" >Mean</th>\n",
       "      <td id=\"T_c627b_row10_col0\" class=\"data row10 col0\" >2878.7508</td>\n",
       "      <td id=\"T_c627b_row10_col1\" class=\"data row10 col1\" >22584542.9949</td>\n",
       "      <td id=\"T_c627b_row10_col2\" class=\"data row10 col2\" >4698.3996</td>\n",
       "      <td id=\"T_c627b_row10_col3\" class=\"data row10 col3\" >0.8507</td>\n",
       "      <td id=\"T_c627b_row10_col4\" class=\"data row10 col4\" >0.4313</td>\n",
       "      <td id=\"T_c627b_row10_col5\" class=\"data row10 col5\" >0.3065</td>\n",
       "    </tr>\n",
       "    <tr>\n",
       "      <th id=\"T_c627b_level0_row11\" class=\"row_heading level0 row11\" >Std</th>\n",
       "      <td id=\"T_c627b_row11_col0\" class=\"data row11 col0\" >389.4622</td>\n",
       "      <td id=\"T_c627b_row11_col1\" class=\"data row11 col1\" >6494839.7349</td>\n",
       "      <td id=\"T_c627b_row11_col2\" class=\"data row11 col2\" >713.8516</td>\n",
       "      <td id=\"T_c627b_row11_col3\" class=\"data row11 col3\" >0.0394</td>\n",
       "      <td id=\"T_c627b_row11_col4\" class=\"data row11 col4\" >0.0536</td>\n",
       "      <td id=\"T_c627b_row11_col5\" class=\"data row11 col5\" >0.0504</td>\n",
       "    </tr>\n",
       "  </tbody>\n",
       "</table>\n"
      ],
      "text/plain": [
       "<pandas.io.formats.style.Styler at 0x2556896d1f0>"
      ]
     },
     "metadata": {},
     "output_type": "display_data"
    },
    {
     "data": {
      "text/html": [],
      "text/plain": [
       "<IPython.core.display.HTML object>"
      ]
     },
     "metadata": {},
     "output_type": "display_data"
    }
   ],
   "source": [
    "lr = create_model('lr')"
   ]
  },
  {
   "cell_type": "code",
   "execution_count": 26,
   "metadata": {},
   "outputs": [
    {
     "data": {
      "text/html": [],
      "text/plain": [
       "<IPython.core.display.HTML object>"
      ]
     },
     "metadata": {},
     "output_type": "display_data"
    },
    {
     "data": {
      "image/png": "[encoded data removed]",
      "text/plain": [
       "<Figure size 800x550 with 2 Axes>"
      ]
     },
     "metadata": {},
     "output_type": "display_data"
    }
   ],
   "source": [
    "plot_model(lr)"
   ]
  },
  {
   "cell_type": "code",
   "execution_count": 27,
   "metadata": {},
   "outputs": [
    {
     "name": "stdout",
     "output_type": "stream",
     "text": [
      "Transformation Pipeline and Model Successfully Saved\n"
     ]
    },
    {
     "data": {
      "text/plain": [
       "(Pipeline(memory=FastMemory(location=C:\\Users\\leire\\AppData\\Local\\Temp\\joblib),\n",
       "          steps=[('numerical_imputer',\n",
       "                  TransformerWrapper(include=['age', 'bmi', 'children'],\n",
       "                                     transformer=SimpleImputer())),\n",
       "                 ('categorical_imputer',\n",
       "                  TransformerWrapper(include=['sex', 'smoker', 'region'],\n",
       "                                     transformer=SimpleImputer(strategy='most_frequent'))),\n",
       "                 ('ordinal_encoding',\n",
       "                  TransformerW...\n",
       "                                                               use_cat_names=True))),\n",
       "                 ('polynomial_features',\n",
       "                  TransformerWrapper(transformer=PolynomialFeatures(include_bias=False))),\n",
       "                 ('bin_numeric_features',\n",
       "                  TransformerWrapper(include=['age', 'bmi'],\n",
       "                                     transformer=KBinsDiscretizer(encode='ordinal',\n",
       "                                                                  strategy='kmeans'))),\n",
       "                 ('normalize', TransformerWrapper(transformer=StandardScaler())),\n",
       "                 ('trained_model', LinearRegression(n_jobs=-1))]),\n",
       " 'deployment_28042020.pkl')"
      ]
     },
     "execution_count": 27,
     "metadata": {},
     "output_type": "execute_result"
    }
   ],
   "source": [
    "save_model(lr, 'deployment_28042020')"
   ]
  },
  {
   "cell_type": "code",
   "execution_count": 28,
   "metadata": {},
   "outputs": [
    {
     "name": "stdout",
     "output_type": "stream",
     "text": [
      "Transformation Pipeline and Model Successfully Loaded\n"
     ]
    }
   ],
   "source": [
    "deployment_28042020 = load_model('deployment_28042020')"
   ]
  },
  {
   "cell_type": "code",
   "execution_count": 29,
   "metadata": {
    "scrolled": true
   },
   "outputs": [
    {
     "data": {
      "text/html": [
       "<style>#sk-container-id-2 {color: black;background-color: white;}#sk-container-id-2 pre{padding: 0;}#sk-container-id-2 div.sk-toggleable {background-color: white;}#sk-container-id-2 label.sk-toggleable__label {cursor: pointer;display: block;width: 100%;margin-bottom: 0;padding: 0.3em;box-sizing: border-box;text-align: center;}#sk-container-id-2 label.sk-toggleable__label-arrow:before {content: \"▸\";float: left;margin-right: 0.25em;color: #696969;}#sk-container-id-2 label.sk-toggleable__label-arrow:hover:before {color: black;}#sk-container-id-2 div.sk-estimator:hover label.sk-toggleable__label-arrow:before {color: black;}#sk-container-id-2 div.sk-toggleable__content {max-height: 0;max-width: 0;overflow: hidden;text-align: left;background-color: #f0f8ff;}#sk-container-id-2 div.sk-toggleable__content pre {margin: 0.2em;color: black;border-radius: 0.25em;background-color: #f0f8ff;}#sk-container-id-2 input.sk-toggleable__control:checked~div.sk-toggleable__content {max-height: 200px;max-width: 100%;overflow: auto;}#sk-container-id-2 input.sk-toggleable__control:checked~label.sk-toggleable__label-arrow:before {content: \"▾\";}#sk-container-id-2 div.sk-estimator input.sk-toggleable__control:checked~label.sk-toggleable__label {background-color: #d4ebff;}#sk-container-id-2 div.sk-label input.sk-toggleable__control:checked~label.sk-toggleable__label {background-color: #d4ebff;}#sk-container-id-2 input.sk-hidden--visually {border: 0;clip: rect(1px 1px 1px 1px);clip: rect(1px, 1px, 1px, 1px);height: 1px;margin: -1px;overflow: hidden;padding: 0;position: absolute;width: 1px;}#sk-container-id-2 div.sk-estimator {font-family: monospace;background-color: #f0f8ff;border: 1px dotted black;border-radius: 0.25em;box-sizing: border-box;margin-bottom: 0.5em;}#sk-container-id-2 div.sk-estimator:hover {background-color: #d4ebff;}#sk-container-id-2 div.sk-parallel-item::after {content: \"\";width: 100%;border-bottom: 1px solid gray;flex-grow: 1;}#sk-container-id-2 div.sk-label:hover label.sk-toggleable__label {background-color: #d4ebff;}#sk-container-id-2 div.sk-serial::before {content: \"\";position: absolute;border-left: 1px solid gray;box-sizing: border-box;top: 0;bottom: 0;left: 50%;z-index: 0;}#sk-container-id-2 div.sk-serial {display: flex;flex-direction: column;align-items: center;background-color: white;padding-right: 0.2em;padding-left: 0.2em;position: relative;}#sk-container-id-2 div.sk-item {position: relative;z-index: 1;}#sk-container-id-2 div.sk-parallel {display: flex;align-items: stretch;justify-content: center;background-color: white;position: relative;}#sk-container-id-2 div.sk-item::before, #sk-container-id-2 div.sk-parallel-item::before {content: \"\";position: absolute;border-left: 1px solid gray;box-sizing: border-box;top: 0;bottom: 0;left: 50%;z-index: -1;}#sk-container-id-2 div.sk-parallel-item {display: flex;flex-direction: column;z-index: 1;position: relative;background-color: white;}#sk-container-id-2 div.sk-parallel-item:first-child::after {align-self: flex-end;width: 50%;}#sk-container-id-2 div.sk-parallel-item:last-child::after {align-self: flex-start;width: 50%;}#sk-container-id-2 div.sk-parallel-item:only-child::after {width: 0;}#sk-container-id-2 div.sk-dashed-wrapped {border: 1px dashed gray;margin: 0 0.4em 0.5em 0.4em;box-sizing: border-box;padding-bottom: 0.4em;background-color: white;}#sk-container-id-2 div.sk-label label {font-family: monospace;font-weight: bold;display: inline-block;line-height: 1.2em;}#sk-container-id-2 div.sk-label-container {text-align: center;}#sk-container-id-2 div.sk-container {/* jupyter's `normalize.less` sets `[hidden] { display: none; }` but bootstrap.min.css set `[hidden] { display: none !important; }` so we also need the `!important` here to be able to override the default hidden behavior on the sphinx rendered scikit-learn.org. See: https://github.com/scikit-learn/scikit-learn/issues/21755 */display: inline-block !important;position: relative;}#sk-container-id-2 div.sk-text-repr-fallback {display: none;}</style><div id=\"sk-container-id-2\" class=\"sk-top-container\"><div class=\"sk-text-repr-fallback\"><pre>Pipeline(memory=FastMemory(location=C:\\Users\\leire\\AppData\\Local\\Temp\\joblib),\n",
       "         steps=[(&#x27;numerical_imputer&#x27;,\n",
       "                 TransformerWrapper(include=[&#x27;age&#x27;, &#x27;bmi&#x27;, &#x27;children&#x27;],\n",
       "                                    transformer=SimpleImputer())),\n",
       "                (&#x27;categorical_imputer&#x27;,\n",
       "                 TransformerWrapper(include=[&#x27;sex&#x27;, &#x27;smoker&#x27;, &#x27;region&#x27;],\n",
       "                                    transformer=SimpleImputer(strategy=&#x27;most_frequent&#x27;))),\n",
       "                (&#x27;ordinal_encoding&#x27;,\n",
       "                 TransformerW...\n",
       "                                                              use_cat_names=True))),\n",
       "                (&#x27;polynomial_features&#x27;,\n",
       "                 TransformerWrapper(transformer=PolynomialFeatures(include_bias=False))),\n",
       "                (&#x27;bin_numeric_features&#x27;,\n",
       "                 TransformerWrapper(include=[&#x27;age&#x27;, &#x27;bmi&#x27;],\n",
       "                                    transformer=KBinsDiscretizer(encode=&#x27;ordinal&#x27;,\n",
       "                                                                 strategy=&#x27;kmeans&#x27;))),\n",
       "                (&#x27;normalize&#x27;, TransformerWrapper(transformer=StandardScaler())),\n",
       "                (&#x27;trained_model&#x27;, LinearRegression(n_jobs=-1))])</pre><b>In a Jupyter environment, please rerun this cell to show the HTML representation or trust the notebook. <br />On GitHub, the HTML representation is unable to render, please try loading this page with nbviewer.org.</b></div><div class=\"sk-container\" hidden><div class=\"sk-item sk-dashed-wrapped\"><div class=\"sk-label-container\"><div class=\"sk-label sk-toggleable\"><input class=\"sk-toggleable__control sk-hidden--visually\" id=\"sk-estimator-id-24\" type=\"checkbox\" ><label for=\"sk-estimator-id-24\" class=\"sk-toggleable__label sk-toggleable__label-arrow\">Pipeline</label><div class=\"sk-toggleable__content\"><pre>Pipeline(memory=FastMemory(location=C:\\Users\\leire\\AppData\\Local\\Temp\\joblib),\n",
       "         steps=[(&#x27;numerical_imputer&#x27;,\n",
       "                 TransformerWrapper(include=[&#x27;age&#x27;, &#x27;bmi&#x27;, &#x27;children&#x27;],\n",
       "                                    transformer=SimpleImputer())),\n",
       "                (&#x27;categorical_imputer&#x27;,\n",
       "                 TransformerWrapper(include=[&#x27;sex&#x27;, &#x27;smoker&#x27;, &#x27;region&#x27;],\n",
       "                                    transformer=SimpleImputer(strategy=&#x27;most_frequent&#x27;))),\n",
       "                (&#x27;ordinal_encoding&#x27;,\n",
       "                 TransformerW...\n",
       "                                                              use_cat_names=True))),\n",
       "                (&#x27;polynomial_features&#x27;,\n",
       "                 TransformerWrapper(transformer=PolynomialFeatures(include_bias=False))),\n",
       "                (&#x27;bin_numeric_features&#x27;,\n",
       "                 TransformerWrapper(include=[&#x27;age&#x27;, &#x27;bmi&#x27;],\n",
       "                                    transformer=KBinsDiscretizer(encode=&#x27;ordinal&#x27;,\n",
       "                                                                 strategy=&#x27;kmeans&#x27;))),\n",
       "                (&#x27;normalize&#x27;, TransformerWrapper(transformer=StandardScaler())),\n",
       "                (&#x27;trained_model&#x27;, LinearRegression(n_jobs=-1))])</pre></div></div></div><div class=\"sk-serial\"><div class=\"sk-item sk-dashed-wrapped\"><div class=\"sk-label-container\"><div class=\"sk-label sk-toggleable\"><input class=\"sk-toggleable__control sk-hidden--visually\" id=\"sk-estimator-id-25\" type=\"checkbox\" ><label for=\"sk-estimator-id-25\" class=\"sk-toggleable__label sk-toggleable__label-arrow\">numerical_imputer: TransformerWrapper</label><div class=\"sk-toggleable__content\"><pre>TransformerWrapper(include=[&#x27;age&#x27;, &#x27;bmi&#x27;, &#x27;children&#x27;],\n",
       "                   transformer=SimpleImputer())</pre></div></div></div><div class=\"sk-parallel\"><div class=\"sk-parallel-item\"><div class=\"sk-item\"><div class=\"sk-label-container\"><div class=\"sk-label sk-toggleable\"><input class=\"sk-toggleable__control sk-hidden--visually\" id=\"sk-estimator-id-26\" type=\"checkbox\" ><label for=\"sk-estimator-id-26\" class=\"sk-toggleable__label sk-toggleable__label-arrow\">transformer: SimpleImputer</label><div class=\"sk-toggleable__content\"><pre>SimpleImputer()</pre></div></div></div><div class=\"sk-serial\"><div class=\"sk-item\"><div class=\"sk-estimator sk-toggleable\"><input class=\"sk-toggleable__control sk-hidden--visually\" id=\"sk-estimator-id-27\" type=\"checkbox\" ><label for=\"sk-estimator-id-27\" class=\"sk-toggleable__label sk-toggleable__label-arrow\">SimpleImputer</label><div class=\"sk-toggleable__content\"><pre>SimpleImputer()</pre></div></div></div></div></div></div></div></div><div class=\"sk-item sk-dashed-wrapped\"><div class=\"sk-label-container\"><div class=\"sk-label sk-toggleable\"><input class=\"sk-toggleable__control sk-hidden--visually\" id=\"sk-estimator-id-28\" type=\"checkbox\" ><label for=\"sk-estimator-id-28\" class=\"sk-toggleable__label sk-toggleable__label-arrow\">categorical_imputer: TransformerWrapper</label><div class=\"sk-toggleable__content\"><pre>TransformerWrapper(include=[&#x27;sex&#x27;, &#x27;smoker&#x27;, &#x27;region&#x27;],\n",
       "                   transformer=SimpleImputer(strategy=&#x27;most_frequent&#x27;))</pre></div></div></div><div class=\"sk-parallel\"><div class=\"sk-parallel-item\"><div class=\"sk-item\"><div class=\"sk-label-container\"><div class=\"sk-label sk-toggleable\"><input class=\"sk-toggleable__control sk-hidden--visually\" id=\"sk-estimator-id-29\" type=\"checkbox\" ><label for=\"sk-estimator-id-29\" class=\"sk-toggleable__label sk-toggleable__label-arrow\">transformer: SimpleImputer</label><div class=\"sk-toggleable__content\"><pre>SimpleImputer(strategy=&#x27;most_frequent&#x27;)</pre></div></div></div><div class=\"sk-serial\"><div class=\"sk-item\"><div class=\"sk-estimator sk-toggleable\"><input class=\"sk-toggleable__control sk-hidden--visually\" id=\"sk-estimator-id-30\" type=\"checkbox\" ><label for=\"sk-estimator-id-30\" class=\"sk-toggleable__label sk-toggleable__label-arrow\">SimpleImputer</label><div class=\"sk-toggleable__content\"><pre>SimpleImputer(strategy=&#x27;most_frequent&#x27;)</pre></div></div></div></div></div></div></div></div><div class=\"sk-item sk-dashed-wrapped\"><div class=\"sk-label-container\"><div class=\"sk-label sk-toggleable\"><input class=\"sk-toggleable__control sk-hidden--visually\" id=\"sk-estimator-id-31\" type=\"checkbox\" ><label for=\"sk-estimator-id-31\" class=\"sk-toggleable__label sk-toggleable__label-arrow\">ordinal_encoding: TransformerWrapper</label><div class=\"sk-toggleable__content\"><pre>TransformerWrapper(include=[&#x27;sex&#x27;, &#x27;smoker&#x27;],\n",
       "                   transformer=OrdinalEncoder(cols=[&#x27;sex&#x27;, &#x27;smoker&#x27;],\n",
       "                                              handle_missing=&#x27;return_nan&#x27;,\n",
       "                                              mapping=[{&#x27;col&#x27;: &#x27;sex&#x27;,\n",
       "                                                        &#x27;data_type&#x27;: dtype(&#x27;O&#x27;),\n",
       "                                                        &#x27;mapping&#x27;: female    0\n",
       "male      1\n",
       "NaN      -1\n",
       "dtype: int64},\n",
       "                                                       {&#x27;col&#x27;: &#x27;smoker&#x27;,\n",
       "                                                        &#x27;data_type&#x27;: dtype(&#x27;O&#x27;),\n",
       "                                                        &#x27;mapping&#x27;: no     0\n",
       "yes    1\n",
       "NaN   -1\n",
       "dtype: int64}]))</pre></div></div></div><div class=\"sk-parallel\"><div class=\"sk-parallel-item\"><div class=\"sk-item\"><div class=\"sk-label-container\"><div class=\"sk-label sk-toggleable\"><input class=\"sk-toggleable__control sk-hidden--visually\" id=\"sk-estimator-id-32\" type=\"checkbox\" ><label for=\"sk-estimator-id-32\" class=\"sk-toggleable__label sk-toggleable__label-arrow\">transformer: OrdinalEncoder</label><div class=\"sk-toggleable__content\"><pre>OrdinalEncoder(cols=[&#x27;sex&#x27;, &#x27;smoker&#x27;], handle_missing=&#x27;return_nan&#x27;,\n",
       "               mapping=[{&#x27;col&#x27;: &#x27;sex&#x27;, &#x27;data_type&#x27;: dtype(&#x27;O&#x27;),\n",
       "                         &#x27;mapping&#x27;: female    0\n",
       "male      1\n",
       "NaN      -1\n",
       "dtype: int64},\n",
       "                        {&#x27;col&#x27;: &#x27;smoker&#x27;, &#x27;data_type&#x27;: dtype(&#x27;O&#x27;),\n",
       "                         &#x27;mapping&#x27;: no     0\n",
       "yes    1\n",
       "NaN   -1\n",
       "dtype: int64}])</pre></div></div></div><div class=\"sk-serial\"><div class=\"sk-item\"><div class=\"sk-estimator sk-toggleable\"><input class=\"sk-toggleable__control sk-hidden--visually\" id=\"sk-estimator-id-33\" type=\"checkbox\" ><label for=\"sk-estimator-id-33\" class=\"sk-toggleable__label sk-toggleable__label-arrow\">OrdinalEncoder</label><div class=\"sk-toggleable__content\"><pre>OrdinalEncoder(cols=[&#x27;sex&#x27;, &#x27;smoker&#x27;], handle_missing=&#x27;return_nan&#x27;,\n",
       "               mapping=[{&#x27;col&#x27;: &#x27;sex&#x27;, &#x27;data_type&#x27;: dtype(&#x27;O&#x27;),\n",
       "                         &#x27;mapping&#x27;: female    0\n",
       "male      1\n",
       "NaN      -1\n",
       "dtype: int64},\n",
       "                        {&#x27;col&#x27;: &#x27;smoker&#x27;, &#x27;data_type&#x27;: dtype(&#x27;O&#x27;),\n",
       "                         &#x27;mapping&#x27;: no     0\n",
       "yes    1\n",
       "NaN   -1\n",
       "dtype: int64}])</pre></div></div></div></div></div></div></div></div><div class=\"sk-item sk-dashed-wrapped\"><div class=\"sk-label-container\"><div class=\"sk-label sk-toggleable\"><input class=\"sk-toggleable__control sk-hidden--visually\" id=\"sk-estimator-id-34\" type=\"checkbox\" ><label for=\"sk-estimator-id-34\" class=\"sk-toggleable__label sk-toggleable__label-arrow\">onehot_encoding: TransformerWrapper</label><div class=\"sk-toggleable__content\"><pre>TransformerWrapper(include=[&#x27;region&#x27;],\n",
       "                   transformer=OneHotEncoder(cols=[&#x27;region&#x27;],\n",
       "                                             handle_missing=&#x27;return_nan&#x27;,\n",
       "                                             use_cat_names=True))</pre></div></div></div><div class=\"sk-parallel\"><div class=\"sk-parallel-item\"><div class=\"sk-item\"><div class=\"sk-label-container\"><div class=\"sk-label sk-toggleable\"><input class=\"sk-toggleable__control sk-hidden--visually\" id=\"sk-estimator-id-35\" type=\"checkbox\" ><label for=\"sk-estimator-id-35\" class=\"sk-toggleable__label sk-toggleable__label-arrow\">transformer: OneHotEncoder</label><div class=\"sk-toggleable__content\"><pre>OneHotEncoder(cols=[&#x27;region&#x27;], handle_missing=&#x27;return_nan&#x27;, use_cat_names=True)</pre></div></div></div><div class=\"sk-serial\"><div class=\"sk-item\"><div class=\"sk-estimator sk-toggleable\"><input class=\"sk-toggleable__control sk-hidden--visually\" id=\"sk-estimator-id-36\" type=\"checkbox\" ><label for=\"sk-estimator-id-36\" class=\"sk-toggleable__label sk-toggleable__label-arrow\">OneHotEncoder</label><div class=\"sk-toggleable__content\"><pre>OneHotEncoder(cols=[&#x27;region&#x27;], handle_missing=&#x27;return_nan&#x27;, use_cat_names=True)</pre></div></div></div></div></div></div></div></div><div class=\"sk-item sk-dashed-wrapped\"><div class=\"sk-label-container\"><div class=\"sk-label sk-toggleable\"><input class=\"sk-toggleable__control sk-hidden--visually\" id=\"sk-estimator-id-37\" type=\"checkbox\" ><label for=\"sk-estimator-id-37\" class=\"sk-toggleable__label sk-toggleable__label-arrow\">polynomial_features: TransformerWrapper</label><div class=\"sk-toggleable__content\"><pre>TransformerWrapper(transformer=PolynomialFeatures(include_bias=False))</pre></div></div></div><div class=\"sk-parallel\"><div class=\"sk-parallel-item\"><div class=\"sk-item\"><div class=\"sk-label-container\"><div class=\"sk-label sk-toggleable\"><input class=\"sk-toggleable__control sk-hidden--visually\" id=\"sk-estimator-id-38\" type=\"checkbox\" ><label for=\"sk-estimator-id-38\" class=\"sk-toggleable__label sk-toggleable__label-arrow\">transformer: PolynomialFeatures</label><div class=\"sk-toggleable__content\"><pre>PolynomialFeatures(include_bias=False)</pre></div></div></div><div class=\"sk-serial\"><div class=\"sk-item\"><div class=\"sk-estimator sk-toggleable\"><input class=\"sk-toggleable__control sk-hidden--visually\" id=\"sk-estimator-id-39\" type=\"checkbox\" ><label for=\"sk-estimator-id-39\" class=\"sk-toggleable__label sk-toggleable__label-arrow\">PolynomialFeatures</label><div class=\"sk-toggleable__content\"><pre>PolynomialFeatures(include_bias=False)</pre></div></div></div></div></div></div></div></div><div class=\"sk-item sk-dashed-wrapped\"><div class=\"sk-label-container\"><div class=\"sk-label sk-toggleable\"><input class=\"sk-toggleable__control sk-hidden--visually\" id=\"sk-estimator-id-40\" type=\"checkbox\" ><label for=\"sk-estimator-id-40\" class=\"sk-toggleable__label sk-toggleable__label-arrow\">bin_numeric_features: TransformerWrapper</label><div class=\"sk-toggleable__content\"><pre>TransformerWrapper(include=[&#x27;age&#x27;, &#x27;bmi&#x27;],\n",
       "                   transformer=KBinsDiscretizer(encode=&#x27;ordinal&#x27;,\n",
       "                                                strategy=&#x27;kmeans&#x27;))</pre></div></div></div><div class=\"sk-parallel\"><div class=\"sk-parallel-item\"><div class=\"sk-item\"><div class=\"sk-label-container\"><div class=\"sk-label sk-toggleable\"><input class=\"sk-toggleable__control sk-hidden--visually\" id=\"sk-estimator-id-41\" type=\"checkbox\" ><label for=\"sk-estimator-id-41\" class=\"sk-toggleable__label sk-toggleable__label-arrow\">transformer: KBinsDiscretizer</label><div class=\"sk-toggleable__content\"><pre>KBinsDiscretizer(encode=&#x27;ordinal&#x27;, strategy=&#x27;kmeans&#x27;)</pre></div></div></div><div class=\"sk-serial\"><div class=\"sk-item\"><div class=\"sk-estimator sk-toggleable\"><input class=\"sk-toggleable__control sk-hidden--visually\" id=\"sk-estimator-id-42\" type=\"checkbox\" ><label for=\"sk-estimator-id-42\" class=\"sk-toggleable__label sk-toggleable__label-arrow\">KBinsDiscretizer</label><div class=\"sk-toggleable__content\"><pre>KBinsDiscretizer(encode=&#x27;ordinal&#x27;, strategy=&#x27;kmeans&#x27;)</pre></div></div></div></div></div></div></div></div><div class=\"sk-item sk-dashed-wrapped\"><div class=\"sk-label-container\"><div class=\"sk-label sk-toggleable\"><input class=\"sk-toggleable__control sk-hidden--visually\" id=\"sk-estimator-id-43\" type=\"checkbox\" ><label for=\"sk-estimator-id-43\" class=\"sk-toggleable__label sk-toggleable__label-arrow\">normalize: TransformerWrapper</label><div class=\"sk-toggleable__content\"><pre>TransformerWrapper(transformer=StandardScaler())</pre></div></div></div><div class=\"sk-parallel\"><div class=\"sk-parallel-item\"><div class=\"sk-item\"><div class=\"sk-label-container\"><div class=\"sk-label sk-toggleable\"><input class=\"sk-toggleable__control sk-hidden--visually\" id=\"sk-estimator-id-44\" type=\"checkbox\" ><label for=\"sk-estimator-id-44\" class=\"sk-toggleable__label sk-toggleable__label-arrow\">transformer: StandardScaler</label><div class=\"sk-toggleable__content\"><pre>StandardScaler()</pre></div></div></div><div class=\"sk-serial\"><div class=\"sk-item\"><div class=\"sk-estimator sk-toggleable\"><input class=\"sk-toggleable__control sk-hidden--visually\" id=\"sk-estimator-id-45\" type=\"checkbox\" ><label for=\"sk-estimator-id-45\" class=\"sk-toggleable__label sk-toggleable__label-arrow\">StandardScaler</label><div class=\"sk-toggleable__content\"><pre>StandardScaler()</pre></div></div></div></div></div></div></div></div><div class=\"sk-item\"><div class=\"sk-estimator sk-toggleable\"><input class=\"sk-toggleable__control sk-hidden--visually\" id=\"sk-estimator-id-46\" type=\"checkbox\" ><label for=\"sk-estimator-id-46\" class=\"sk-toggleable__label sk-toggleable__label-arrow\">LinearRegression</label><div class=\"sk-toggleable__content\"><pre>LinearRegression(n_jobs=-1)</pre></div></div></div></div></div></div></div>"
      ],
      "text/plain": [
       "Pipeline(memory=FastMemory(location=C:\\Users\\leire\\AppData\\Local\\Temp\\joblib),\n",
       "         steps=[('numerical_imputer',\n",
       "                 TransformerWrapper(include=['age', 'bmi', 'children'],\n",
       "                                    transformer=SimpleImputer())),\n",
       "                ('categorical_imputer',\n",
       "                 TransformerWrapper(include=['sex', 'smoker', 'region'],\n",
       "                                    transformer=SimpleImputer(strategy='most_frequent'))),\n",
       "                ('ordinal_encoding',\n",
       "                 TransformerW...\n",
       "                                                              use_cat_names=True))),\n",
       "                ('polynomial_features',\n",
       "                 TransformerWrapper(transformer=PolynomialFeatures(include_bias=False))),\n",
       "                ('bin_numeric_features',\n",
       "                 TransformerWrapper(include=['age', 'bmi'],\n",
       "                                    transformer=KBinsDiscretizer(encode='ordinal',\n",
       "                                                                 strategy='kmeans'))),\n",
       "                ('normalize', TransformerWrapper(transformer=StandardScaler())),\n",
       "                ('trained_model', LinearRegression(n_jobs=-1))])"
      ]
     },
     "execution_count": 29,
     "metadata": {},
     "output_type": "execute_result"
    }
   ],
   "source": [
    "deployment_28042020"
   ]
  },
  {
   "cell_type": "markdown",
   "metadata": {},
   "source": [
    "### Execute the Application"
   ]
  },
  {
   "cell_type": "code",
   "execution_count": 30,
   "metadata": {},
   "outputs": [
    {
     "name": "stdout",
     "output_type": "stream",
     "text": [
      "^C\n"
     ]
    }
   ],
   "source": [
    "!streamlit run app.py"
   ]
  },
  {
   "cell_type": "markdown",
   "metadata": {},
   "source": [
    "#### import requests"
   ]
  },
  {
   "cell_type": "code",
   "execution_count": 37,
   "metadata": {},
   "outputs": [
    {
     "ename": "JSONDecodeError",
     "evalue": "Expecting value: line 1 column 1 (char 0)",
     "output_type": "error",
     "traceback": [
      "\u001b[1;31m---------------------------------------------------------------------------\u001b[0m",
      "\u001b[1;31mJSONDecodeError\u001b[0m                           Traceback (most recent call last)",
      "File \u001b[1;32m~\\anaconda3\\envs\\mlops_heroku\\lib\\site-packages\\requests\\models.py:971\u001b[0m, in \u001b[0;36mResponse.json\u001b[1;34m(self, **kwargs)\u001b[0m\n\u001b[0;32m    970\u001b[0m \u001b[38;5;28;01mtry\u001b[39;00m:\n\u001b[1;32m--> 971\u001b[0m     \u001b[38;5;28;01mreturn\u001b[39;00m complexjson\u001b[38;5;241m.\u001b[39mloads(\u001b[38;5;28mself\u001b[39m\u001b[38;5;241m.\u001b[39mtext, \u001b[38;5;241m*\u001b[39m\u001b[38;5;241m*\u001b[39mkwargs)\n\u001b[0;32m    972\u001b[0m \u001b[38;5;28;01mexcept\u001b[39;00m JSONDecodeError \u001b[38;5;28;01mas\u001b[39;00m e:\n\u001b[0;32m    973\u001b[0m     \u001b[38;5;66;03m# Catch JSON-related errors and raise as requests.JSONDecodeError\u001b[39;00m\n\u001b[0;32m    974\u001b[0m     \u001b[38;5;66;03m# This aliases json.JSONDecodeError and simplejson.JSONDecodeError\u001b[39;00m\n",
      "File \u001b[1;32m~\\anaconda3\\envs\\mlops_heroku\\lib\\json\\__init__.py:346\u001b[0m, in \u001b[0;36mloads\u001b[1;34m(s, cls, object_hook, parse_float, parse_int, parse_constant, object_pairs_hook, **kw)\u001b[0m\n\u001b[0;32m    343\u001b[0m \u001b[38;5;28;01mif\u001b[39;00m (\u001b[38;5;28mcls\u001b[39m \u001b[38;5;129;01mis\u001b[39;00m \u001b[38;5;28;01mNone\u001b[39;00m \u001b[38;5;129;01mand\u001b[39;00m object_hook \u001b[38;5;129;01mis\u001b[39;00m \u001b[38;5;28;01mNone\u001b[39;00m \u001b[38;5;129;01mand\u001b[39;00m\n\u001b[0;32m    344\u001b[0m         parse_int \u001b[38;5;129;01mis\u001b[39;00m \u001b[38;5;28;01mNone\u001b[39;00m \u001b[38;5;129;01mand\u001b[39;00m parse_float \u001b[38;5;129;01mis\u001b[39;00m \u001b[38;5;28;01mNone\u001b[39;00m \u001b[38;5;129;01mand\u001b[39;00m\n\u001b[0;32m    345\u001b[0m         parse_constant \u001b[38;5;129;01mis\u001b[39;00m \u001b[38;5;28;01mNone\u001b[39;00m \u001b[38;5;129;01mand\u001b[39;00m object_pairs_hook \u001b[38;5;129;01mis\u001b[39;00m \u001b[38;5;28;01mNone\u001b[39;00m \u001b[38;5;129;01mand\u001b[39;00m \u001b[38;5;129;01mnot\u001b[39;00m kw):\n\u001b[1;32m--> 346\u001b[0m     \u001b[38;5;28;01mreturn\u001b[39;00m \u001b[43m_default_decoder\u001b[49m\u001b[38;5;241;43m.\u001b[39;49m\u001b[43mdecode\u001b[49m\u001b[43m(\u001b[49m\u001b[43ms\u001b[49m\u001b[43m)\u001b[49m\n\u001b[0;32m    347\u001b[0m \u001b[38;5;28;01mif\u001b[39;00m \u001b[38;5;28mcls\u001b[39m \u001b[38;5;129;01mis\u001b[39;00m \u001b[38;5;28;01mNone\u001b[39;00m:\n",
      "File \u001b[1;32m~\\anaconda3\\envs\\mlops_heroku\\lib\\json\\decoder.py:337\u001b[0m, in \u001b[0;36mJSONDecoder.decode\u001b[1;34m(self, s, _w)\u001b[0m\n\u001b[0;32m    333\u001b[0m \u001b[38;5;250m\u001b[39m\u001b[38;5;124;03m\"\"\"Return the Python representation of ``s`` (a ``str`` instance\u001b[39;00m\n\u001b[0;32m    334\u001b[0m \u001b[38;5;124;03mcontaining a JSON document).\u001b[39;00m\n\u001b[0;32m    335\u001b[0m \n\u001b[0;32m    336\u001b[0m \u001b[38;5;124;03m\"\"\"\u001b[39;00m\n\u001b[1;32m--> 337\u001b[0m obj, end \u001b[38;5;241m=\u001b[39m \u001b[38;5;28;43mself\u001b[39;49m\u001b[38;5;241;43m.\u001b[39;49m\u001b[43mraw_decode\u001b[49m\u001b[43m(\u001b[49m\u001b[43ms\u001b[49m\u001b[43m,\u001b[49m\u001b[43m \u001b[49m\u001b[43midx\u001b[49m\u001b[38;5;241;43m=\u001b[39;49m\u001b[43m_w\u001b[49m\u001b[43m(\u001b[49m\u001b[43ms\u001b[49m\u001b[43m,\u001b[49m\u001b[43m \u001b[49m\u001b[38;5;241;43m0\u001b[39;49m\u001b[43m)\u001b[49m\u001b[38;5;241;43m.\u001b[39;49m\u001b[43mend\u001b[49m\u001b[43m(\u001b[49m\u001b[43m)\u001b[49m\u001b[43m)\u001b[49m\n\u001b[0;32m    338\u001b[0m end \u001b[38;5;241m=\u001b[39m _w(s, end)\u001b[38;5;241m.\u001b[39mend()\n",
      "File \u001b[1;32m~\\anaconda3\\envs\\mlops_heroku\\lib\\json\\decoder.py:355\u001b[0m, in \u001b[0;36mJSONDecoder.raw_decode\u001b[1;34m(self, s, idx)\u001b[0m\n\u001b[0;32m    354\u001b[0m \u001b[38;5;28;01mexcept\u001b[39;00m \u001b[38;5;167;01mStopIteration\u001b[39;00m \u001b[38;5;28;01mas\u001b[39;00m err:\n\u001b[1;32m--> 355\u001b[0m     \u001b[38;5;28;01mraise\u001b[39;00m JSONDecodeError(\u001b[38;5;124m\"\u001b[39m\u001b[38;5;124mExpecting value\u001b[39m\u001b[38;5;124m\"\u001b[39m, s, err\u001b[38;5;241m.\u001b[39mvalue) \u001b[38;5;28;01mfrom\u001b[39;00m \u001b[38;5;28mNone\u001b[39m\n\u001b[0;32m    356\u001b[0m \u001b[38;5;28;01mreturn\u001b[39;00m obj, end\n",
      "\u001b[1;31mJSONDecodeError\u001b[0m: Expecting value: line 1 column 1 (char 0)",
      "\nDuring handling of the above exception, another exception occurred:\n",
      "\u001b[1;31mJSONDecodeError\u001b[0m                           Traceback (most recent call last)",
      "Cell \u001b[1;32mIn[37], line 4\u001b[0m\n\u001b[0;32m      2\u001b[0m url \u001b[38;5;241m=\u001b[39m \u001b[38;5;124m'\u001b[39m\u001b[38;5;124mhttps://pycaret-insurance.herokuapp.com/predict_api\u001b[39m\u001b[38;5;124m'\u001b[39m\n\u001b[0;32m      3\u001b[0m pred \u001b[38;5;241m=\u001b[39m requests\u001b[38;5;241m.\u001b[39mpost(url,json\u001b[38;5;241m=\u001b[39m{\u001b[38;5;124m'\u001b[39m\u001b[38;5;124mage\u001b[39m\u001b[38;5;124m'\u001b[39m:\u001b[38;5;241m55\u001b[39m, \u001b[38;5;124m'\u001b[39m\u001b[38;5;124msex\u001b[39m\u001b[38;5;124m'\u001b[39m:\u001b[38;5;124m'\u001b[39m\u001b[38;5;124mmale\u001b[39m\u001b[38;5;124m'\u001b[39m, \u001b[38;5;124m'\u001b[39m\u001b[38;5;124mbmi\u001b[39m\u001b[38;5;124m'\u001b[39m:\u001b[38;5;241m59\u001b[39m, \u001b[38;5;124m'\u001b[39m\u001b[38;5;124mchildren\u001b[39m\u001b[38;5;124m'\u001b[39m:\u001b[38;5;241m1\u001b[39m, \u001b[38;5;124m'\u001b[39m\u001b[38;5;124msmoker\u001b[39m\u001b[38;5;124m'\u001b[39m:\u001b[38;5;124m'\u001b[39m\u001b[38;5;124mmale\u001b[39m\u001b[38;5;124m'\u001b[39m, \u001b[38;5;124m'\u001b[39m\u001b[38;5;124mregion\u001b[39m\u001b[38;5;124m'\u001b[39m:\u001b[38;5;124m'\u001b[39m\u001b[38;5;124mnorthwest\u001b[39m\u001b[38;5;124m'\u001b[39m})\n\u001b[1;32m----> 4\u001b[0m \u001b[38;5;28mprint\u001b[39m(\u001b[43mpred\u001b[49m\u001b[38;5;241;43m.\u001b[39;49m\u001b[43mjson\u001b[49m\u001b[43m(\u001b[49m\u001b[43m)\u001b[49m)\n",
      "File \u001b[1;32m~\\anaconda3\\envs\\mlops_heroku\\lib\\site-packages\\requests\\models.py:975\u001b[0m, in \u001b[0;36mResponse.json\u001b[1;34m(self, **kwargs)\u001b[0m\n\u001b[0;32m    971\u001b[0m     \u001b[38;5;28;01mreturn\u001b[39;00m complexjson\u001b[38;5;241m.\u001b[39mloads(\u001b[38;5;28mself\u001b[39m\u001b[38;5;241m.\u001b[39mtext, \u001b[38;5;241m*\u001b[39m\u001b[38;5;241m*\u001b[39mkwargs)\n\u001b[0;32m    972\u001b[0m \u001b[38;5;28;01mexcept\u001b[39;00m JSONDecodeError \u001b[38;5;28;01mas\u001b[39;00m e:\n\u001b[0;32m    973\u001b[0m     \u001b[38;5;66;03m# Catch JSON-related errors and raise as requests.JSONDecodeError\u001b[39;00m\n\u001b[0;32m    974\u001b[0m     \u001b[38;5;66;03m# This aliases json.JSONDecodeError and simplejson.JSONDecodeError\u001b[39;00m\n\u001b[1;32m--> 975\u001b[0m     \u001b[38;5;28;01mraise\u001b[39;00m RequestsJSONDecodeError(e\u001b[38;5;241m.\u001b[39mmsg, e\u001b[38;5;241m.\u001b[39mdoc, e\u001b[38;5;241m.\u001b[39mpos)\n",
      "\u001b[1;31mJSONDecodeError\u001b[0m: Expecting value: line 1 column 1 (char 0)"
     ]
    }
   ],
   "source": [
    "import requests\n",
    "url = 'https://pycaret-insurance.herokuapp.com/predict_api'\n",
    "pred = requests.post(url,json={'age':55, 'sex':'male', 'bmi':59, 'children':1, 'smoker':'male', 'region':'northwest'})\n",
    "print(pred.json())"
   ]
  },
  {
   "cell_type": "code",
   "execution_count": null,
   "metadata": {},
   "outputs": [],
   "source": []
  }
 ],
 "metadata": {
  "kernelspec": {
   "display_name": "Python [conda env:mlops_heroku] *",
   "language": "python",
   "name": "conda-env-mlops_heroku-py"
  },
  "language_info": {
   "codemirror_mode": {
    "name": "ipython",
    "version": 3
   },
   "file_extension": ".py",
   "mimetype": "text/x-python",
   "name": "python",
   "nbconvert_exporter": "python",
   "pygments_lexer": "ipython3",
   "version": "3.9.16"
  }
 },
 "nbformat": 4,
 "nbformat_minor": 2
}
